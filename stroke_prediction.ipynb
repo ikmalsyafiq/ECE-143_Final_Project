{
 "cells": [
  {
   "cell_type": "code",
   "execution_count": 6,
   "source": [
    "import pandas as pd\n",
    "\n",
    "data = pd.read_csv('./healthcare-dataset-stroke-data.csv',sep = ',',header = 0)  "
   ],
   "outputs": [],
   "metadata": {}
  }
 ],
 "metadata": {
  "orig_nbformat": 4,
  "language_info": {
   "name": "python",
   "version": "3.7.10",
   "mimetype": "text/x-python",
   "codemirror_mode": {
    "name": "ipython",
    "version": 3
   },
   "pygments_lexer": "ipython3",
   "nbconvert_exporter": "python",
   "file_extension": ".py"
  },
  "kernelspec": {
   "name": "python3",
   "display_name": "Python 3.7.10 64-bit ('datascience': conda)"
  },
  "interpreter": {
   "hash": "617f11523be5cd817b7834227564a7fc9dbfbd59f0605d4738510472b4b375ae"
  }
 },
 "nbformat": 4,
 "nbformat_minor": 2
}